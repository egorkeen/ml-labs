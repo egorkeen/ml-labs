{
  "nbformat": 4,
  "nbformat_minor": 0,
  "metadata": {
    "colab": {
      "provenance": []
    },
    "kernelspec": {
      "name": "python3",
      "display_name": "Python 3"
    },
    "language_info": {
      "name": "python"
    }
  },
  "cells": [
    {
      "cell_type": "code",
      "execution_count": 2,
      "metadata": {
        "id": "fxtFAQd9HDUr"
      },
      "outputs": [],
      "source": [
        "# Подключим необходимые библиотеки\n",
        "\n",
        "from tensorflow.keras import Sequential\n",
        "from tensorflow.keras.layers import Conv2D, MaxPool2D, Dense, Flatten, Dropout\n",
        "from keras.utils import to_categorical\n",
        "import tensorflow as tf\n",
        "import matplotlib.pyplot as plt\n",
        "import numpy as np\n",
        "import random"
      ]
    },
    {
      "cell_type": "code",
      "source": [
        "# Подготавливаем исходные данные для обучения нейронной сети\n",
        "\n",
        "mnist = tf.keras.datasets.mnist\n",
        "(train_images, train_labels), (test_images, test_labels) = mnist.load_data()\n",
        "train_images = train_images / 255\n",
        "test_images = test_images / 255\n",
        "train_images = train_images.reshape(60000,28,28,1)\n",
        "test_images = test_images.reshape(10000,28,28,1)\n",
        "train_labels = to_categorical(train_labels, 10)\n",
        "test_labels = to_categorical(test_labels, 10)"
      ],
      "metadata": {
        "colab": {
          "base_uri": "https://localhost:8080/"
        },
        "id": "T3542I0fHJVR",
        "outputId": "417ec78b-b65d-4764-927a-6ce7d844d591"
      },
      "execution_count": 3,
      "outputs": [
        {
          "output_type": "stream",
          "name": "stdout",
          "text": [
            "Downloading data from https://storage.googleapis.com/tensorflow/tf-keras-datasets/mnist.npz\n",
            "11490434/11490434 [==============================] - 0s 0us/step\n"
          ]
        }
      ]
    },
    {
      "cell_type": "code",
      "source": [
        "# Создаем модель\n",
        "\n",
        "model = Sequential()"
      ],
      "metadata": {
        "id": "PhziLlMqHUM-"
      },
      "execution_count": 4,
      "outputs": []
    },
    {
      "cell_type": "code",
      "source": [
        "# Добавляем первый сверточный двухмерный слой (Conv2D)\n",
        "\n",
        "model.add(Conv2D(32, kernel_size = (3,3), activation='relu',\n",
        "input_shape=(28,28,1)))"
      ],
      "metadata": {
        "id": "ysNUFHinHYCQ"
      },
      "execution_count": 5,
      "outputs": []
    },
    {
      "cell_type": "code",
      "source": [
        "# Второй сверточный слой\n",
        "\n",
        "model.add(Conv2D(64, kernel_size = (3,3), activation='relu'))"
      ],
      "metadata": {
        "id": "pmeoSnKKHdVc"
      },
      "execution_count": 6,
      "outputs": []
    },
    {
      "cell_type": "code",
      "source": [
        "# Третий слой Flatten\n",
        "\n",
        "model.add(Flatten())"
      ],
      "metadata": {
        "id": "Z7Q05ruqHjfr"
      },
      "execution_count": 7,
      "outputs": []
    },
    {
      "cell_type": "code",
      "source": [
        "# Добавляем однослойный персептрон\n",
        "\n",
        "model.add(Dense(10, activation='softmax'))"
      ],
      "metadata": {
        "id": "zDUF6mwAHjbH"
      },
      "execution_count": 8,
      "outputs": []
    },
    {
      "cell_type": "code",
      "source": [
        "# Компилируем нашу модель, передав три параметра: оптимизатор, потери и метрики\n",
        "\n",
        "model.compile(optimizer = 'adam', loss='categorical_crossentropy', metrics=['accuracy'])"
      ],
      "metadata": {
        "id": "ZGfj9WeiHsYY"
      },
      "execution_count": 9,
      "outputs": []
    },
    {
      "cell_type": "code",
      "source": [
        "# Запускаем обучение модели на 5 эпохах с размером блока обучения 37\n",
        "\n",
        "history =model.fit(train_images, train_labels, batch_size=32, epochs = 5)"
      ],
      "metadata": {
        "colab": {
          "base_uri": "https://localhost:8080/"
        },
        "id": "KlaLVpVTH14H",
        "outputId": "75594df4-45ba-411f-ed87-9d5a7be9e1c8"
      },
      "execution_count": 10,
      "outputs": [
        {
          "output_type": "stream",
          "name": "stdout",
          "text": [
            "Epoch 1/5\n",
            "1875/1875 [==============================] - 144s 76ms/step - loss: 0.1175 - accuracy: 0.9646\n",
            "Epoch 2/5\n",
            "1875/1875 [==============================] - 139s 74ms/step - loss: 0.0442 - accuracy: 0.9865\n",
            "Epoch 3/5\n",
            "1875/1875 [==============================] - 134s 71ms/step - loss: 0.0285 - accuracy: 0.9910\n",
            "Epoch 4/5\n",
            "1875/1875 [==============================] - 134s 72ms/step - loss: 0.0184 - accuracy: 0.9940\n",
            "Epoch 5/5\n",
            "1875/1875 [==============================] - 131s 70ms/step - loss: 0.0113 - accuracy: 0.9962\n"
          ]
        }
      ]
    },
    {
      "cell_type": "code",
      "source": [
        "# Код модели CNN\n",
        "\n",
        "from tensorflow.keras import Sequential\n",
        "from tensorflow.keras.layers import Conv2D, MaxPool2D, Dense, Flatten, Dropout\n",
        "from keras.utils import to_categorical\n",
        "import tensorflow as tf\n",
        "import matplotlib.pyplot as plt\n",
        "import numpy as np\n",
        "import random\n",
        "\n",
        "# Подготавливаем исходные данные для обучения нейронной сети\n",
        "mnist = tf.keras.datasets.mnist\n",
        "(train_images, train_labels), (test_images, test_labels) = mnist.load_data()\n",
        "\n",
        "train_images = train_images / 255\n",
        "test_images = test_images / 255\n",
        "train_images = train_images.reshape(60000,28,28,1)\n",
        "test_images = test_images.reshape(10000,28,28,1)\n",
        "train_labels = to_categorical(train_labels, 10)\n",
        "test_labels = to_categorical(test_labels, 10)\n",
        "\n",
        "# Создаем модель\n",
        "model = Sequential()\n",
        "\n",
        "# Добавляем слои\n",
        "model.add(Conv2D(32, kernel_size = (3,3), activation='relu',\n",
        "input_shape=(28,28,1)))\n",
        "model.add(Conv2D(64, kernel_size = (3,3), activation='relu'))\n",
        "# Добавим после второго сверточного слоя слой субдискретизации с окном и Dropout\n",
        "model.add(MaxPool2D(2,2))\n",
        "model.add(Dropout(0.25))\n",
        "model.add(Flatten())\n",
        "model.add(Dense(10, activation='softmax'))"
      ],
      "metadata": {
        "id": "ILDz4pmaH-YU"
      },
      "execution_count": 15,
      "outputs": []
    },
    {
      "cell_type": "code",
      "source": [
        "# Компилируем нашу модель, передав три параметра: оптимизатор, потери и метрики\n",
        "\n",
        "model.compile(optimizer = 'adam', loss='categorical_crossentropy', metrics=['accuracy'])\n",
        "\n",
        "# Запускаем обучение модели на 5 эпохах с размером блока обучения 37\n",
        "\n",
        "history =model.fit(train_images, train_labels, batch_size=32, epochs = 5)"
      ],
      "metadata": {
        "colab": {
          "base_uri": "https://localhost:8080/"
        },
        "id": "6lDDChJoIjjh",
        "outputId": "6975986d-4d76-4951-8fe9-d3cad3928d67"
      },
      "execution_count": 17,
      "outputs": [
        {
          "output_type": "stream",
          "name": "stdout",
          "text": [
            "Epoch 1/5\n",
            "1875/1875 [==============================] - 145s 77ms/step - loss: 0.1401 - accuracy: 0.9576\n",
            "Epoch 2/5\n",
            "1875/1875 [==============================] - 140s 74ms/step - loss: 0.0551 - accuracy: 0.9830\n",
            "Epoch 3/5\n",
            "1875/1875 [==============================] - 139s 74ms/step - loss: 0.0402 - accuracy: 0.9870\n",
            "Epoch 4/5\n",
            "1875/1875 [==============================] - 139s 74ms/step - loss: 0.0314 - accuracy: 0.9901\n",
            "Epoch 5/5\n",
            "1875/1875 [==============================] - 138s 73ms/step - loss: 0.0253 - accuracy: 0.9920\n"
          ]
        }
      ]
    },
    {
      "cell_type": "code",
      "source": [
        "# После слоя Flatten можно ввести полносвязный слой Dense со 128 выходами и Dropout\n",
        "\n",
        "model.add(Dense(128, activation='relu'))\n",
        "model.add(Dropout(0.4))"
      ],
      "metadata": {
        "id": "Qw9iORdsIt-k"
      },
      "execution_count": 18,
      "outputs": []
    },
    {
      "cell_type": "code",
      "source": [
        "# Запускаем обучение модели на 5 эпохах с размером блока обучения 32\n",
        "\n",
        "history =model.fit(train_images, train_labels, batch_size=32, epochs = 5)"
      ],
      "metadata": {
        "colab": {
          "base_uri": "https://localhost:8080/"
        },
        "id": "JcgJhsoaI02f",
        "outputId": "deeed44a-6855-4ab8-b0d8-bf3251419997"
      },
      "execution_count": 19,
      "outputs": [
        {
          "output_type": "stream",
          "name": "stdout",
          "text": [
            "Epoch 1/5\n",
            "1875/1875 [==============================] - 138s 74ms/step - loss: 0.0201 - accuracy: 0.9938\n",
            "Epoch 2/5\n",
            "1875/1875 [==============================] - 140s 74ms/step - loss: 0.0171 - accuracy: 0.9944\n",
            "Epoch 3/5\n",
            "1875/1875 [==============================] - 138s 74ms/step - loss: 0.0149 - accuracy: 0.9950\n",
            "Epoch 4/5\n",
            "1875/1875 [==============================] - 140s 75ms/step - loss: 0.0132 - accuracy: 0.9958\n",
            "Epoch 5/5\n",
            "1875/1875 [==============================] - 140s 75ms/step - loss: 0.0117 - accuracy: 0.9960\n"
          ]
        }
      ]
    }
  ]
}