{
  "nbformat": 4,
  "nbformat_minor": 0,
  "metadata": {
    "colab": {
      "provenance": []
    },
    "kernelspec": {
      "name": "python3",
      "display_name": "Python 3"
    },
    "language_info": {
      "name": "python"
    }
  },
  "cells": [
    {
      "cell_type": "code",
      "execution_count": 2,
      "metadata": {
        "id": "B4aRJOuNJ99O"
      },
      "outputs": [],
      "source": [
        "# Подключим необходимые библиотеки\n",
        "\n",
        "import tensorflow as tf\n",
        "from tensorflow.keras import Sequential\n",
        "from tensorflow.keras.layers import SimpleRNN, Dense, Flatten, Dropout\n",
        "import matplotlib.pyplot as plt\n",
        "from keras.utils import to_categorical\n",
        "import numpy as np\n",
        "import random"
      ]
    },
    {
      "cell_type": "markdown",
      "source": [],
      "metadata": {
        "id": "Klt7rjqxKHZS"
      }
    },
    {
      "cell_type": "code",
      "source": [
        "# Подготавливаем исходные данные для обучения нейронной сети\n",
        "\n",
        "mnist = tf.keras.datasets.mnist\n",
        "(train_images, train_labels), (test_images, test_labels) = mnist.load_data()\n",
        "train_images = train_images / 255\n",
        "test_images = test_images / 255\n",
        "train_labels = to_categorical(train_labels, 10)\n",
        "test_labels = to_categorical(test_labels, 10)"
      ],
      "metadata": {
        "colab": {
          "base_uri": "https://localhost:8080/"
        },
        "id": "BX3wS-6GKSvV",
        "outputId": "9f91815c-cf74-4758-9702-99c0cb8d56e1"
      },
      "execution_count": 3,
      "outputs": [
        {
          "output_type": "stream",
          "name": "stdout",
          "text": [
            "Downloading data from https://storage.googleapis.com/tensorflow/tf-keras-datasets/mnist.npz\n",
            "11490434/11490434 [==============================] - 0s 0us/step\n"
          ]
        }
      ]
    },
    {
      "cell_type": "code",
      "source": [
        "# Создаем модель\n",
        "\n",
        "model = Sequential()"
      ],
      "metadata": {
        "id": "9KsrvDBdKW9D"
      },
      "execution_count": 4,
      "outputs": []
    },
    {
      "cell_type": "code",
      "source": [
        "# Добавляем простой рекуррентный слой (SimpleRNN) с количеством\n",
        "# входных нейронов равном 10\n",
        "\n",
        "model.add(SimpleRNN(10, input_shape=(28,28), activation='relu'))"
      ],
      "metadata": {
        "id": "luL-QnW9KZXX"
      },
      "execution_count": 5,
      "outputs": []
    },
    {
      "cell_type": "code",
      "source": [
        "# Добавляем однослойный персептрон с 10-ю нейронами, что\n",
        "# соответствует количеству распознаваемых цифр\n",
        "\n",
        "model.add(Dense(10, activation='softmax'))"
      ],
      "metadata": {
        "id": "Vv2DHDibKePt"
      },
      "execution_count": 6,
      "outputs": []
    },
    {
      "cell_type": "code",
      "source": [
        "# Компилируем модель\n",
        "\n",
        "model.compile(optimizer = 'adam',\n",
        " loss='categorical_crossentropy',\n",
        " metrics=['accuracy'])"
      ],
      "metadata": {
        "id": "4baE8YGDKkPo"
      },
      "execution_count": 8,
      "outputs": []
    },
    {
      "cell_type": "code",
      "source": [
        "# Запускаем обучение сети на 5 эпохах с разметом блока обучения\n",
        "# (batch) 32\n",
        "\n",
        "model.fit(train_images, train_labels,\n",
        " batch_size = 32,\n",
        " epochs = 5)\n"
      ],
      "metadata": {
        "colab": {
          "base_uri": "https://localhost:8080/"
        },
        "id": "1bOUpWovLYlX",
        "outputId": "54ebe068-0773-4a5e-c639-bb33c14ea65d"
      },
      "execution_count": 9,
      "outputs": [
        {
          "output_type": "stream",
          "name": "stdout",
          "text": [
            "Epoch 1/5\n",
            "1875/1875 [==============================] - 12s 6ms/step - loss: 1.7064 - accuracy: 0.3758\n",
            "Epoch 2/5\n",
            "1875/1875 [==============================] - 9s 5ms/step - loss: 1.0621 - accuracy: 0.6485\n",
            "Epoch 3/5\n",
            "1875/1875 [==============================] - 10s 6ms/step - loss: 0.9146 - accuracy: 0.6935\n",
            "Epoch 4/5\n",
            "1875/1875 [==============================] - 13s 7ms/step - loss: 0.8518 - accuracy: 0.7132\n",
            "Epoch 5/5\n",
            "1875/1875 [==============================] - 12s 6ms/step - loss: 0.8146 - accuracy: 0.7279\n"
          ]
        },
        {
          "output_type": "execute_result",
          "data": {
            "text/plain": [
              "<keras.src.callbacks.History at 0x7d5462e3bca0>"
            ]
          },
          "metadata": {},
          "execution_count": 9
        }
      ]
    },
    {
      "cell_type": "code",
      "source": [
        "# Увеличиваем кол-во эпох до 10\n",
        "\n",
        "model.fit(train_images, train_labels,\n",
        " batch_size = 32,\n",
        " epochs = 10)"
      ],
      "metadata": {
        "colab": {
          "base_uri": "https://localhost:8080/"
        },
        "id": "LSfIp3YKLYgb",
        "outputId": "78cf2822-7b5a-4173-cdbc-8f77cdde8747"
      },
      "execution_count": 10,
      "outputs": [
        {
          "output_type": "stream",
          "name": "stdout",
          "text": [
            "Epoch 1/10\n",
            "1875/1875 [==============================] - 10s 5ms/step - loss: 0.7824 - accuracy: 0.7426\n",
            "Epoch 2/10\n",
            "1875/1875 [==============================] - 10s 5ms/step - loss: 0.7611 - accuracy: 0.7527\n",
            "Epoch 3/10\n",
            "1875/1875 [==============================] - 11s 6ms/step - loss: 0.7400 - accuracy: 0.7624\n",
            "Epoch 4/10\n",
            "1875/1875 [==============================] - 10s 6ms/step - loss: 0.7197 - accuracy: 0.7715\n",
            "Epoch 5/10\n",
            "1875/1875 [==============================] - 12s 7ms/step - loss: 0.7013 - accuracy: 0.7781\n",
            "Epoch 6/10\n",
            "1875/1875 [==============================] - 12s 7ms/step - loss: 0.6858 - accuracy: 0.7865\n",
            "Epoch 7/10\n",
            "1875/1875 [==============================] - 11s 6ms/step - loss: 0.6748 - accuracy: 0.7890\n",
            "Epoch 8/10\n",
            "1875/1875 [==============================] - 11s 6ms/step - loss: 0.6657 - accuracy: 0.7935\n",
            "Epoch 9/10\n",
            "1875/1875 [==============================] - 12s 6ms/step - loss: 0.6541 - accuracy: 0.7979\n",
            "Epoch 10/10\n",
            "1875/1875 [==============================] - 11s 6ms/step - loss: 0.6454 - accuracy: 0.7995\n"
          ]
        },
        {
          "output_type": "execute_result",
          "data": {
            "text/plain": [
              "<keras.src.callbacks.History at 0x7d5465f720e0>"
            ]
          },
          "metadata": {},
          "execution_count": 10
        }
      ]
    },
    {
      "cell_type": "code",
      "source": [
        "from keras.models import Sequential\n",
        "from keras.layers import SimpleRNN, Dense\n",
        "\n",
        "model = Sequential()\n",
        "\n",
        "# Увеличим количество нейронов во входном рекуррентном слое до 128\n",
        "model.add(SimpleRNN(128, input_shape=(28, 28), activation='relu'))\n",
        "model.add(Dense(10, activation='softmax'))\n",
        "\n",
        "# Компилируем модель\n",
        "model.compile(optimizer = 'adam',\n",
        " loss='categorical_crossentropy',\n",
        " metrics=['accuracy'])\n",
        "\n",
        "\n",
        "# Запускаем обучение сети на 5 эпохах с разметом блока обучения\n",
        "# (batch) 32\n",
        "\n",
        "model.fit(train_images, train_labels,\n",
        " batch_size = 32,\n",
        " epochs = 5)"
      ],
      "metadata": {
        "colab": {
          "base_uri": "https://localhost:8080/"
        },
        "id": "iFrg4N7ILm77",
        "outputId": "e5d46b0d-dfd7-485c-d187-09c17356ddef"
      },
      "execution_count": 12,
      "outputs": [
        {
          "output_type": "stream",
          "name": "stdout",
          "text": [
            "Epoch 1/5\n",
            "1875/1875 [==============================] - 21s 11ms/step - loss: 0.4176 - accuracy: 0.8683\n",
            "Epoch 2/5\n",
            "1875/1875 [==============================] - 19s 10ms/step - loss: 0.1877 - accuracy: 0.9461\n",
            "Epoch 3/5\n",
            "1875/1875 [==============================] - 20s 11ms/step - loss: 0.1540 - accuracy: 0.9562\n",
            "Epoch 4/5\n",
            "1875/1875 [==============================] - 19s 10ms/step - loss: 0.1332 - accuracy: 0.9626\n",
            "Epoch 5/5\n",
            "1875/1875 [==============================] - 28s 15ms/step - loss: 0.1225 - accuracy: 0.9661\n"
          ]
        },
        {
          "output_type": "execute_result",
          "data": {
            "text/plain": [
              "<keras.src.callbacks.History at 0x7d54424096c0>"
            ]
          },
          "metadata": {},
          "execution_count": 12
        }
      ]
    },
    {
      "cell_type": "code",
      "source": [
        "from keras.models import Sequential\n",
        "from keras.layers import SimpleRNN, Dense\n",
        "\n",
        "model = Sequential()\n",
        "\n",
        "model.add(SimpleRNN(128, input_shape=(28, 28), activation='relu'))\n",
        "# Добавим после рекуррентного слой Dropout, для сброса случайных\n",
        "# параметров при обучении\n",
        "model.add(Dropout(0.2))\n",
        "model.add(Dense(10, activation='softmax'))\n",
        "\n",
        "# Компилируем модель\n",
        "model.compile(optimizer = 'adam',\n",
        " loss='categorical_crossentropy',\n",
        " metrics=['accuracy'])\n",
        "\n",
        "\n",
        "# Запускаем обучение сети на 5 эпохах с разметом блока обучения\n",
        "# (batch) 32\n",
        "\n",
        "model.fit(train_images, train_labels,\n",
        " batch_size = 32,\n",
        " epochs = 5)"
      ],
      "metadata": {
        "colab": {
          "base_uri": "https://localhost:8080/"
        },
        "id": "U7cJxQmDMzDg",
        "outputId": "68078fdc-45f8-46dc-fdd9-bdcdc7b4189a"
      },
      "execution_count": 13,
      "outputs": [
        {
          "output_type": "stream",
          "name": "stdout",
          "text": [
            "Epoch 1/5\n",
            "1875/1875 [==============================] - 20s 10ms/step - loss: 0.4706 - accuracy: 0.8505\n",
            "Epoch 2/5\n",
            "1875/1875 [==============================] - 18s 10ms/step - loss: 0.2052 - accuracy: 0.9427\n",
            "Epoch 3/5\n",
            "1875/1875 [==============================] - 20s 11ms/step - loss: 0.1681 - accuracy: 0.9535\n",
            "Epoch 4/5\n",
            "1875/1875 [==============================] - 22s 12ms/step - loss: 0.1501 - accuracy: 0.9581\n",
            "Epoch 5/5\n",
            "1875/1875 [==============================] - 17s 9ms/step - loss: 0.1321 - accuracy: 0.9640\n"
          ]
        },
        {
          "output_type": "execute_result",
          "data": {
            "text/plain": [
              "<keras.src.callbacks.History at 0x7d54423cdab0>"
            ]
          },
          "metadata": {},
          "execution_count": 13
        }
      ]
    },
    {
      "cell_type": "code",
      "source": [
        "from keras.models import Sequential\n",
        "from keras.layers import LSTM, Dropout, Dense\n",
        "\n",
        "model = Sequential()\n",
        "\n",
        "# Применим рекуррентную модель LSTM вместо простой рекуррентной\n",
        "# сети\n",
        "model.add(LSTM(10, input_shape=(28, 28), activation=\"relu\", return_sequences=False))\n",
        "model.add(Dropout(0.2))\n",
        "model.add(Dense(10, activation='softmax'))\n",
        "\n",
        "# Компилируем модель\n",
        "model.compile(optimizer='adam', loss='categorical_crossentropy', metrics=['accuracy'])\n",
        "\n",
        "# Запускаем обучение сети на 5 эпохах с разметом блока обучения\n",
        "# (batch) 32\n",
        "\n",
        "model.fit(train_images, train_labels, batch_size=32, epochs=5)\n"
      ],
      "metadata": {
        "colab": {
          "base_uri": "https://localhost:8080/"
        },
        "id": "HJjTSZT9NAiW",
        "outputId": "f14a90bf-f24c-425b-a699-c2e817950736"
      },
      "execution_count": 16,
      "outputs": [
        {
          "output_type": "stream",
          "name": "stdout",
          "text": [
            "Epoch 1/5\n",
            "1875/1875 [==============================] - 19s 9ms/step - loss: 1.4508 - accuracy: 0.4803\n",
            "Epoch 2/5\n",
            "1875/1875 [==============================] - 16s 9ms/step - loss: 0.9273 - accuracy: 0.6744\n",
            "Epoch 3/5\n",
            "1875/1875 [==============================] - 19s 10ms/step - loss: 0.7663 - accuracy: 0.7376\n",
            "Epoch 4/5\n",
            "1875/1875 [==============================] - 16s 9ms/step - loss: 0.6633 - accuracy: 0.7778\n",
            "Epoch 5/5\n",
            "1875/1875 [==============================] - 16s 9ms/step - loss: 0.5971 - accuracy: 0.8042\n"
          ]
        },
        {
          "output_type": "execute_result",
          "data": {
            "text/plain": [
              "<keras.src.callbacks.History at 0x7d5463552f50>"
            ]
          },
          "metadata": {},
          "execution_count": 16
        }
      ]
    },
    {
      "cell_type": "code",
      "source": [
        "from keras.models import Sequential\n",
        "from keras.layers import LSTM, Dropout, Dense\n",
        "\n",
        "model = Sequential()\n",
        "\n",
        "# Увеличим количество нейронов во входном рекуррентном слое до 128\n",
        "model.add(LSTM(128, input_shape = (28, 28), activation=\"relu\",\n",
        "return_sequences=False))\n",
        "model.add(Dropout(0.2))\n",
        "model.add(Dense(10, activation='softmax'))\n",
        "\n",
        "# Компилируем модель\n",
        "model.compile(optimizer = 'adam',\n",
        " loss='categorical_crossentropy',\n",
        " metrics=['accuracy'])\n",
        "\n",
        "\n",
        "# Запускаем обучение сети на 5 эпохах с разметом блока обучения\n",
        "# (batch) 32\n",
        "\n",
        "model.fit(train_images, train_labels,\n",
        " batch_size = 32,\n",
        " epochs = 5)"
      ],
      "metadata": {
        "colab": {
          "base_uri": "https://localhost:8080/"
        },
        "id": "ck5u8bAQNOzE",
        "outputId": "91d43ebe-9869-4a8c-99b6-30d5d9135f56"
      },
      "execution_count": 17,
      "outputs": [
        {
          "output_type": "stream",
          "name": "stdout",
          "text": [
            "Epoch 1/5\n",
            "1875/1875 [==============================] - 71s 37ms/step - loss: 0.5539 - accuracy: 0.8200\n",
            "Epoch 2/5\n",
            "1875/1875 [==============================] - 68s 36ms/step - loss: 0.1312 - accuracy: 0.9615\n",
            "Epoch 3/5\n",
            "1875/1875 [==============================] - 66s 35ms/step - loss: 0.0919 - accuracy: 0.9733\n",
            "Epoch 4/5\n",
            "1875/1875 [==============================] - 68s 36ms/step - loss: 0.0735 - accuracy: 0.9792\n",
            "Epoch 5/5\n",
            "1875/1875 [==============================] - 67s 36ms/step - loss: 0.0603 - accuracy: 0.9823\n"
          ]
        },
        {
          "output_type": "execute_result",
          "data": {
            "text/plain": [
              "<keras.src.callbacks.History at 0x7d5443fdafb0>"
            ]
          },
          "metadata": {},
          "execution_count": 17
        }
      ]
    },
    {
      "cell_type": "code",
      "source": [
        "from keras.models import Sequential\n",
        "from keras.layers import LSTM, Dropout, Dense\n",
        "\n",
        "model = Sequential()\n",
        "\n",
        "# Для повышения точности обучения введем полносвязный слой с 32–мя\n",
        "# нейронами перед выходным слоем\n",
        "tf.keras.layers.Dense(32, activation='relu')\n",
        "model.add(LSTM(128, input_shape = (28, 28), activation=\"relu\",\n",
        "return_sequences=False))\n",
        "model.add(Dropout(0.2))\n",
        "model.add(Dense(10, activation='softmax'))\n",
        "\n",
        "# Компилируем модель\n",
        "model.compile(optimizer = 'adam',\n",
        " loss='categorical_crossentropy',\n",
        " metrics=['accuracy'])\n",
        "\n",
        "\n",
        "# Запускаем обучение сети на 5 эпохах с разметом блока обучения\n",
        "# (batch) 32\n",
        "\n",
        "model.fit(train_images, train_labels,\n",
        " batch_size = 32,\n",
        " epochs = 5)"
      ],
      "metadata": {
        "colab": {
          "base_uri": "https://localhost:8080/"
        },
        "id": "X_kUSWriNgZ6",
        "outputId": "a08f6b98-3c02-42fb-e3d9-50e76708ac41"
      },
      "execution_count": 18,
      "outputs": [
        {
          "output_type": "stream",
          "name": "stdout",
          "text": [
            "Epoch 1/5\n",
            "1875/1875 [==============================] - 68s 36ms/step - loss: 0.5558 - accuracy: 0.8217\n",
            "Epoch 2/5\n",
            "1875/1875 [==============================] - 68s 36ms/step - loss: 0.1331 - accuracy: 0.9606\n",
            "Epoch 3/5\n",
            "1875/1875 [==============================] - 67s 36ms/step - loss: 0.0969 - accuracy: 0.9726\n",
            "Epoch 4/5\n",
            "1875/1875 [==============================] - 72s 38ms/step - loss: 0.0758 - accuracy: 0.9775\n",
            "Epoch 5/5\n",
            "1875/1875 [==============================] - 70s 37ms/step - loss: 0.0626 - accuracy: 0.9816\n"
          ]
        },
        {
          "output_type": "execute_result",
          "data": {
            "text/plain": [
              "<keras.src.callbacks.History at 0x7d5462fbfac0>"
            ]
          },
          "metadata": {},
          "execution_count": 18
        }
      ]
    }
  ]
}